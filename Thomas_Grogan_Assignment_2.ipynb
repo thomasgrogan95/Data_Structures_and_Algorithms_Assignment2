{
 "cells": [
  {
   "cell_type": "markdown",
   "metadata": {},
   "source": [
    "# Data Structures and Algorithms \n",
    "## Assignment 2"
   ]
  },
  {
   "cell_type": "markdown",
   "metadata": {},
   "source": [
    "### Introduction:\n",
    "In this notebook I will implement a singly linked list and stack ADT in Python. \n",
    "I will also provide a brief description of the Stack ADT and Queue ADT, list their key operations and support operations, and provide two real-world examples of each. \n",
    "The purpose of this assignement is to give us an understanding of fundamental data structures and their implementations. "
   ]
  },
  {
   "cell_type": "markdown",
   "metadata": {},
   "source": [
    "## Part 1:"
   ]
  },
  {
   "cell_type": "markdown",
   "metadata": {},
   "source": [
    "### 1. Linked List:\n",
    "A **linked list** is a sequence of data structures, which are connected via links. Linked lists are a very commonly used data structure. \n",
    "\n",
    "**Singly linked lists** contain nodes which have a *data* field and a *next* field. The *next* field points to the next node in the list of nodes.\n",
    "\n",
    "#### Time Complexity:\n",
    "**Search:** O(n) <br/>\n",
    "**Insert:** O(1) <br/>\n",
    "**Delete:** O(1)"
   ]
  },
  {
   "cell_type": "code",
   "execution_count": 63,
   "metadata": {},
   "outputs": [],
   "source": [
    "class Node:                        # the node class\n",
    "    def __init__(self, data):\n",
    "        self.data = data           # holds the node's data\n",
    "        self.next = None           # points to the nest node in the list"
   ]
  },
  {
   "cell_type": "code",
   "execution_count": 64,
   "metadata": {},
   "outputs": [],
   "source": [
    "class myLinkedList:                # the singly linked list class\n",
    "    def __init__(self):\n",
    "        self.head = None           # the head/front item in the list\n",
    "    \n",
    "    def list_traversal(self):\n",
    "        if self.head is None:\n",
    "            print(\"List has no elements.\")\n",
    "            return\n",
    "        else:\n",
    "            n = self.head          # assigns the head of the list to the variable n\n",
    "            while n is not None:\n",
    "                print(n.data, \" \") # print the value of n.data\n",
    "                n = n.next         # assign the next item in the list to n \n",
    "        \n",
    "    def add_first(self, data):\n",
    "        new_node = Node(data)      # create a node with the new date and assigns the node to the new_node variable\n",
    "        new_node.next = self.head  # assigns the current head of the list to new_node.next\n",
    "        self.head = new_node       # make new_node the new head of the list\n",
    "        \n",
    "    def add_last(self, data):\n",
    "        new_node = Node(data)\n",
    "        if self.head is None:      # check if list is empty\n",
    "            self.head = new_node   # if so, make new_node the head of the list\n",
    "            return\n",
    "        n = self.head              # assign head of list to variable n\n",
    "        while n.next is not None:  # while there is still another item in the list\n",
    "            n = n.next             # assign the next item in the list to n\n",
    "        n.next = new_node          # assign new_node to the next of the last item in the list\n",
    "    \n",
    "    def remove_first(self):\n",
    "        if self.head is None:      # check if list is empty\n",
    "            print(\"The list has no elements.\") # inform user of empty list\n",
    "        self.head = self.head.next # make the second item in the list the new head of the list"
   ]
  },
  {
   "cell_type": "code",
   "execution_count": 65,
   "metadata": {},
   "outputs": [],
   "source": [
    "newLinkedList = myLinkedList()     # Initialise singly linked list newLinkedList"
   ]
  },
  {
   "cell_type": "code",
   "execution_count": 66,
   "metadata": {},
   "outputs": [],
   "source": [
    "newLinkedList.add_last(5)          # add items 5, 10, 15 to list\n",
    "newLinkedList.add_last(10)\n",
    "newLinkedList.add_last(15)"
   ]
  },
  {
   "cell_type": "code",
   "execution_count": 67,
   "metadata": {},
   "outputs": [
    {
     "name": "stdout",
     "output_type": "stream",
     "text": [
      "5  \n",
      "10  \n",
      "15  \n"
     ]
    }
   ],
   "source": [
    "newLinkedList.list_traversal()     # traverse the list and print values"
   ]
  },
  {
   "cell_type": "code",
   "execution_count": 68,
   "metadata": {},
   "outputs": [],
   "source": [
    "newLinkedList.add_first(20)        # add 20 at start of list"
   ]
  },
  {
   "cell_type": "code",
   "execution_count": 69,
   "metadata": {},
   "outputs": [
    {
     "name": "stdout",
     "output_type": "stream",
     "text": [
      "20  \n",
      "5  \n",
      "10  \n",
      "15  \n"
     ]
    }
   ],
   "source": [
    "newLinkedList.list_traversal()     # traverse the list and print values"
   ]
  },
  {
   "cell_type": "code",
   "execution_count": 70,
   "metadata": {},
   "outputs": [],
   "source": [
    "newLinkedList.remove_first()       # remove the first item (20) from the list"
   ]
  },
  {
   "cell_type": "code",
   "execution_count": 71,
   "metadata": {},
   "outputs": [
    {
     "name": "stdout",
     "output_type": "stream",
     "text": [
      "5  \n",
      "10  \n",
      "15  \n"
     ]
    }
   ],
   "source": [
    "newLinkedList.list_traversal()     # traverse the list and print values"
   ]
  },
  {
   "cell_type": "markdown",
   "metadata": {},
   "source": [
    "### 2."
   ]
  },
  {
   "cell_type": "markdown",
   "metadata": {},
   "source": [
    "### Stack:\n",
    "A stack is a commonly used Abstract Data Type in programming languages. It gets its name from its bahaviour. It behaves like a real world stack, for example, a stack of cards. Like a stack of cards, the stack ADT can only be accessed at one end. It is only possible to access the element at the top of the stack. The stack allows us to remove or add elements at the top position only. It acts as a LIFO (Last-In-First-Out) structure. The element that is inserted last is accessed or removed first. Inserting an item into the stack is called \"pushing\" and removing the last item added to the stack is called \"popping\".\n",
    "\n",
    "#### Key Operations:\n",
    "**push(x)** - Inserts object x onto the top of the stack.<br/>\n",
    "**Input:** Object<br/>\n",
    "**Output:** None\n",
    "\n",
    "**pop()** - Removes the top object and returns it. If the stack is empty an error occurs.<br/>\n",
    "**Input:** None<br/>\n",
    "**Output:** Object\n",
    "\n",
    "#### Support Operations:\n",
    "\n",
    "**size()** - Returns the size of the stack, i.e. the number of objects in the stack.<br/>\n",
    "**Input:** None<br/>\n",
    "**Output:** Integer\n",
    "\n",
    "**is_empty()** - Returns a boolean which indicates whether the stack is empty or not.<br/>\n",
    "**Input:** None<br/>\n",
    "**Output:** Boolean \n",
    "\n",
    "**top()** or **peek()** - Returns the top object of the stack. It does not remove the object from the stack. An error occurs if the stack is empty.<br/>\n",
    "**Input:** None <br/>\n",
    "**Output:** Object\n",
    "\n",
    "#### Real World Data Examples:\n",
    "#### 1.\n",
    "**An undo button.**\n",
    "Take for example the undo function on Microsoft Word. This acts like a stack ADT. Each letter, indentation, deletion, edit that the user makes is added to the top of the stack. When the user clicks the undo button the most recent object is removed from the top of the stack. If the user clicks it again, then the next most recent object will be removed from the top of the stack.\n",
    "#### 2.\n",
    "**Processing of nested structures.**\n",
    "A nested structure is one that can contain instances of itself embedded within itself. For example, algebraic expressions can be nested because a subexpression of an algebraic expression can be another algebraic expression. Stacks can be used to process nested structures such as checking for balanced parentheses and evaluation of postfix expressions. \n",
    "\n",
    "#### Time Complexity:\n",
    "**Push operation:** O(1) <br/>\n",
    "**Pop operation:** O(1) <br/>\n",
    "**Top operation:** O(1) <br/>\n",
    "**Search operation:** O(n)\n",
    "\n",
    "### Queue:\n",
    "A queue is an abstract data type that is somewhat similar to a stack. A fundamental difference is that a queue can be accessed at both ends. It acts like a real life queue, for example, a queue for a shop checkout. One end of the queue is used for the insertion of data (enqueue) and the other end is used for the removal of data (dequeue). The queue acts as a FIFO (First-In-First-Out) structure. The element that is inserted into the queue first will also be accessed first. Elements can be inserted into the queue at any time, but only the element which has been in the queue the longest may be removed. \n",
    "\n",
    "#### Key Operations:\n",
    "**enqueue(x)** - Inserts object x at the rear of the queue. <br/>\n",
    "**Input:** Object <br/>\n",
    "**Output:** None <br/>\n",
    "\n",
    "**dequeue()** - Removes the object that is at the front of the queue and returns it. If the queue is empty an error occurs. <br/>\n",
    "**Input:** None <br/>\n",
    "**Output:** Object <br/>\n",
    "\n",
    "#### Support Operations:\n",
    "\n",
    "**size()** - Returns the size of the queue, i.e. the number of objects in the queue. <br/>\n",
    "**Input:** None <br/>\n",
    "**Output:** Integer <br/>\n",
    "\n",
    "**is_empty()** - Returns a boolean which indicates whether the stack is empty or not. <br/>\n",
    "**Input:** None <br/>\n",
    "**Output:** Boolean \n",
    "\n",
    "**front()** - Returns the front object in the queue. It does not remove the object from the queue. An error occurs if the queue is empty. <br/>\n",
    "**Input:** None <br/>\n",
    "**Output:** Object\n",
    "\n",
    "#### Real World Data Examples:\n",
    "#### 1.\n",
    "**Access to a shared resource.**\n",
    "A printer is an example of a shared resource. Jobs are scheduled in the order that they arrive to the printer. A new job is added to the end of the queue. When the printer is ready to print the next job it takes this job from the front of the queue, i.e. the job that has been in the queue for the longest period of time. \n",
    "#### 2.\n",
    "**Online ticket sales.** \n",
    "Online ticket sellers can make use of the queue ADT. This is to ensure that those who enter the queue first have access first to the tickets. The user is placed at the end of the queue and must wait until he/she reaches the front of the queue.\n",
    "\n",
    "#### Time Complexity:\n",
    "**Enqueue operation:** O(1) <br/>\n",
    "**Dequeue operation:** O(1) <br/>\n",
    "**Size operation:** O(1) <br/>\n"
   ]
  },
  {
   "cell_type": "markdown",
   "metadata": {},
   "source": [
    "## Part 2:"
   ]
  },
  {
   "cell_type": "markdown",
   "metadata": {},
   "source": [
    "### 1. Stack ADT"
   ]
  },
  {
   "cell_type": "code",
   "execution_count": 72,
   "metadata": {},
   "outputs": [],
   "source": [
    "class Node:                           # the node class\n",
    "    def __init__(self, data):\n",
    "        self.data = data              # holds the node's data\n",
    "        self.next = None              # points to the next node in the stack"
   ]
  },
  {
   "cell_type": "code",
   "execution_count": 73,
   "metadata": {},
   "outputs": [],
   "source": [
    "class Stack:                          # the Stack class\n",
    "    def __init__ (self):\n",
    "        self.head = None              # the head/front object in the stack\n",
    "        \n",
    "    def is_empty(self):\n",
    "        if self.head == None:         # check if there is no head in the stack, i.e. an empty stack\n",
    "            return True              \n",
    "        else:\n",
    "            return False              # return false if stack is not empty\n",
    "    \n",
    "    def push(self, data):\n",
    "        if self.head == None:         # if stack is empty:\n",
    "            self.head = Node(data)    # Create a node with data value and assign it to head of stack\n",
    "        else:\n",
    "            newNode = Node(data)      # else: create a node with data value and assign to newNode\n",
    "            newNode.next = self.head  # assign the current head of the stack to the newNode.next\n",
    "            self.head = newNode       # make newNode the new head of the stack\n",
    "    \n",
    "    def pop(self):\n",
    "        if self.is_empty():           # check if stack is empty\n",
    "            return None               # if so, return none\n",
    "        else:\n",
    "            poppedNode = self.head    # else: assign head of stack to variable poppedNode\n",
    "            self.head = self.head.next # assign the next object in the stack to be the head of the stack\n",
    "            poppedNode.next = None    # set poppedNode's next to None\n",
    "            return poppedNode.data    # return the data held in the popped node\n",
    "    \n",
    "    def top(self):\n",
    "        if self.is_empty():           # check if stack is empty\n",
    "            return None               # if so, return None\n",
    "        else: \n",
    "            return self.head.data     # else return the data at the head of the stack\n",
    "    \n",
    "    def size(self):\n",
    "        temp = self.head              # assign the head of the stack to the temp variable \n",
    "        count = 0                     # initiate a counter \n",
    "        \n",
    "        while (temp):                 # while there is a temp variable \n",
    "            count += 1                # increment count by 1\n",
    "            temp = temp.next          # assign the next object in the stack to temp variable\n",
    "        return count                  # return count, the number of objects in the stack"
   ]
  },
  {
   "cell_type": "markdown",
   "metadata": {},
   "source": [
    "### 2."
   ]
  },
  {
   "cell_type": "code",
   "execution_count": 74,
   "metadata": {},
   "outputs": [],
   "source": [
    "S = Stack()           # Initialise the Stack - S"
   ]
  },
  {
   "cell_type": "code",
   "execution_count": 75,
   "metadata": {},
   "outputs": [],
   "source": [
    "S.push(5)             # Adds 5 to top of the stack. Returns None."
   ]
  },
  {
   "cell_type": "code",
   "execution_count": 76,
   "metadata": {},
   "outputs": [],
   "source": [
    "S.push(3)             # Adds 3 to top of the stack. Returns None."
   ]
  },
  {
   "cell_type": "code",
   "execution_count": 77,
   "metadata": {},
   "outputs": [
    {
     "data": {
      "text/plain": [
       "3"
      ]
     },
     "execution_count": 77,
     "metadata": {},
     "output_type": "execute_result"
    }
   ],
   "source": [
    "S.pop()               # Removes the top object from the stack and returns its value (3)."
   ]
  },
  {
   "cell_type": "code",
   "execution_count": 78,
   "metadata": {},
   "outputs": [],
   "source": [
    "S.push(2)             # Adds 2 to top of the stack. Returns None."
   ]
  },
  {
   "cell_type": "code",
   "execution_count": 79,
   "metadata": {},
   "outputs": [],
   "source": [
    "S.push(8)             # Adds 8 to top of the stack. Returns None."
   ]
  },
  {
   "cell_type": "code",
   "execution_count": 80,
   "metadata": {},
   "outputs": [
    {
     "data": {
      "text/plain": [
       "8"
      ]
     },
     "execution_count": 80,
     "metadata": {},
     "output_type": "execute_result"
    }
   ],
   "source": [
    "S.pop()               # Removes the top object from the stack and returns its value (8)."
   ]
  },
  {
   "cell_type": "code",
   "execution_count": 81,
   "metadata": {},
   "outputs": [
    {
     "data": {
      "text/plain": [
       "2"
      ]
     },
     "execution_count": 81,
     "metadata": {},
     "output_type": "execute_result"
    }
   ],
   "source": [
    "S.pop()               # Removes the top object from the stack and returns its value (2)."
   ]
  },
  {
   "cell_type": "code",
   "execution_count": 82,
   "metadata": {},
   "outputs": [],
   "source": [
    "S.push(9)             # Adds 9 to top of the stack. Returns None."
   ]
  },
  {
   "cell_type": "code",
   "execution_count": 83,
   "metadata": {},
   "outputs": [],
   "source": [
    "S.push(1)             # Adds 1 to top of the stack. Returns None."
   ]
  },
  {
   "cell_type": "code",
   "execution_count": 84,
   "metadata": {},
   "outputs": [
    {
     "data": {
      "text/plain": [
       "1"
      ]
     },
     "execution_count": 84,
     "metadata": {},
     "output_type": "execute_result"
    }
   ],
   "source": [
    "S.pop()               # Removes the top element from the stack and returns its value (1)."
   ]
  },
  {
   "cell_type": "code",
   "execution_count": 85,
   "metadata": {},
   "outputs": [],
   "source": [
    "S.push(7)             # Adds 7 to top of the stack. Returns None."
   ]
  },
  {
   "cell_type": "code",
   "execution_count": 86,
   "metadata": {},
   "outputs": [],
   "source": [
    "S.push(6)             # Adds 6 to top of the stack. Returns None."
   ]
  },
  {
   "cell_type": "code",
   "execution_count": 87,
   "metadata": {},
   "outputs": [
    {
     "data": {
      "text/plain": [
       "6"
      ]
     },
     "execution_count": 87,
     "metadata": {},
     "output_type": "execute_result"
    }
   ],
   "source": [
    "S.pop()               # Removes the top object from the stack and returns its value (6)."
   ]
  },
  {
   "cell_type": "code",
   "execution_count": 88,
   "metadata": {},
   "outputs": [
    {
     "data": {
      "text/plain": [
       "7"
      ]
     },
     "execution_count": 88,
     "metadata": {},
     "output_type": "execute_result"
    }
   ],
   "source": [
    "S.pop()               # Removes the top object from the stack and returns its value (7)."
   ]
  },
  {
   "cell_type": "code",
   "execution_count": 89,
   "metadata": {},
   "outputs": [],
   "source": [
    "S.push(4)             # Adds 4 to top of the stack. Returns None."
   ]
  },
  {
   "cell_type": "code",
   "execution_count": 90,
   "metadata": {},
   "outputs": [
    {
     "data": {
      "text/plain": [
       "4"
      ]
     },
     "execution_count": 90,
     "metadata": {},
     "output_type": "execute_result"
    }
   ],
   "source": [
    "S.pop()               # Removes the top object from the stack and returns its value (4)."
   ]
  },
  {
   "cell_type": "code",
   "execution_count": 91,
   "metadata": {},
   "outputs": [
    {
     "data": {
      "text/plain": [
       "9"
      ]
     },
     "execution_count": 91,
     "metadata": {},
     "output_type": "execute_result"
    }
   ],
   "source": [
    "S.pop()               # Removes the top object from the stack and returns its value (9)."
   ]
  },
  {
   "cell_type": "code",
   "execution_count": 92,
   "metadata": {},
   "outputs": [
    {
     "data": {
      "text/plain": [
       "5"
      ]
     },
     "execution_count": 92,
     "metadata": {},
     "output_type": "execute_result"
    }
   ],
   "source": [
    "S.top()               # Returns the top object in the stack (5), i.e. the most recently added. \n",
    "                      # It does not remove the object from the stack."
   ]
  },
  {
   "cell_type": "code",
   "execution_count": 93,
   "metadata": {},
   "outputs": [
    {
     "data": {
      "text/plain": [
       "False"
      ]
     },
     "execution_count": 93,
     "metadata": {},
     "output_type": "execute_result"
    }
   ],
   "source": [
    "S.is_empty()          # Returns a boolean which indicates whether the stack is empty or not. \n",
    "                      # In this case the stack is not empty so it returns False."
   ]
  },
  {
   "cell_type": "code",
   "execution_count": 94,
   "metadata": {},
   "outputs": [
    {
     "data": {
      "text/plain": [
       "1"
      ]
     },
     "execution_count": 94,
     "metadata": {},
     "output_type": "execute_result"
    }
   ],
   "source": [
    "S.size()              # Returns the size of the stack, i.e. the number of objects in the stack which is 1 in this case."
   ]
  },
  {
   "cell_type": "markdown",
   "metadata": {},
   "source": [
    "### Another example of the Stack class in operation:"
   ]
  },
  {
   "cell_type": "code",
   "execution_count": 95,
   "metadata": {},
   "outputs": [],
   "source": [
    "NewStack = Stack()    # Initialise the Stack - NewStack"
   ]
  },
  {
   "cell_type": "code",
   "execution_count": 96,
   "metadata": {},
   "outputs": [
    {
     "data": {
      "text/plain": [
       "True"
      ]
     },
     "execution_count": 96,
     "metadata": {},
     "output_type": "execute_result"
    }
   ],
   "source": [
    "NewStack.is_empty()   # Check if stack is empty. Returns boolean True."
   ]
  },
  {
   "cell_type": "code",
   "execution_count": 97,
   "metadata": {},
   "outputs": [
    {
     "data": {
      "text/plain": [
       "0"
      ]
     },
     "execution_count": 97,
     "metadata": {},
     "output_type": "execute_result"
    }
   ],
   "source": [
    "NewStack.size()       # Returns the size of the stack (0)."
   ]
  },
  {
   "cell_type": "code",
   "execution_count": 98,
   "metadata": {},
   "outputs": [],
   "source": [
    "NewStack.push(\"Bottom object in stack.\")  # Adds string to top of the stack. Returns None."
   ]
  },
  {
   "cell_type": "code",
   "execution_count": 99,
   "metadata": {},
   "outputs": [
    {
     "data": {
      "text/plain": [
       "False"
      ]
     },
     "execution_count": 99,
     "metadata": {},
     "output_type": "execute_result"
    }
   ],
   "source": [
    "NewStack.is_empty()   # Check if stack is empty. Returns boolean False."
   ]
  },
  {
   "cell_type": "code",
   "execution_count": 100,
   "metadata": {},
   "outputs": [
    {
     "data": {
      "text/plain": [
       "1"
      ]
     },
     "execution_count": 100,
     "metadata": {},
     "output_type": "execute_result"
    }
   ],
   "source": [
    "NewStack.size()       # Returns the size of the stack (1)."
   ]
  },
  {
   "cell_type": "code",
   "execution_count": 101,
   "metadata": {},
   "outputs": [],
   "source": [
    "NewStack.push(\"Middle object in stack.\")  # Adds string to top of the stack. Returns None."
   ]
  },
  {
   "cell_type": "code",
   "execution_count": 102,
   "metadata": {},
   "outputs": [
    {
     "data": {
      "text/plain": [
       "2"
      ]
     },
     "execution_count": 102,
     "metadata": {},
     "output_type": "execute_result"
    }
   ],
   "source": [
    "NewStack.size()       # Returns the size of the stack (2)."
   ]
  },
  {
   "cell_type": "code",
   "execution_count": 103,
   "metadata": {},
   "outputs": [],
   "source": [
    "NewStack.push(\"Top object in stack.\")     # Adds string to top of the stack. Returns None."
   ]
  },
  {
   "cell_type": "code",
   "execution_count": 104,
   "metadata": {},
   "outputs": [
    {
     "data": {
      "text/plain": [
       "3"
      ]
     },
     "execution_count": 104,
     "metadata": {},
     "output_type": "execute_result"
    }
   ],
   "source": [
    "NewStack.size()       # Returns the size of the stack (3)."
   ]
  },
  {
   "cell_type": "code",
   "execution_count": 105,
   "metadata": {},
   "outputs": [
    {
     "data": {
      "text/plain": [
       "'Top object in stack.'"
      ]
     },
     "execution_count": 105,
     "metadata": {},
     "output_type": "execute_result"
    }
   ],
   "source": [
    "NewStack.top()        # Returns the top object in the stack (\"Top object in stack\").\n",
    "                      # It does not remove the object from the stack."
   ]
  },
  {
   "cell_type": "code",
   "execution_count": 106,
   "metadata": {},
   "outputs": [
    {
     "data": {
      "text/plain": [
       "'Top object in stack.'"
      ]
     },
     "execution_count": 106,
     "metadata": {},
     "output_type": "execute_result"
    }
   ],
   "source": [
    "NewStack.pop()        # Removes the top object from the stack and returns its value (\"Top object in stack\")"
   ]
  },
  {
   "cell_type": "code",
   "execution_count": 107,
   "metadata": {},
   "outputs": [
    {
     "data": {
      "text/plain": [
       "2"
      ]
     },
     "execution_count": 107,
     "metadata": {},
     "output_type": "execute_result"
    }
   ],
   "source": [
    "NewStack.size()       # Returns the size of the stack (2)."
   ]
  },
  {
   "cell_type": "code",
   "execution_count": 108,
   "metadata": {},
   "outputs": [
    {
     "data": {
      "text/plain": [
       "'Middle object in stack.'"
      ]
     },
     "execution_count": 108,
     "metadata": {},
     "output_type": "execute_result"
    }
   ],
   "source": [
    "NewStack.top()        # Returns the top object in the stack (\"Middle object in stack\")\n",
    "                      # It does not remove the object from the stack."
   ]
  },
  {
   "cell_type": "code",
   "execution_count": 109,
   "metadata": {},
   "outputs": [
    {
     "data": {
      "text/plain": [
       "'Middle object in stack.'"
      ]
     },
     "execution_count": 109,
     "metadata": {},
     "output_type": "execute_result"
    }
   ],
   "source": [
    "NewStack.pop()        # Removes the top object from the stack and returns its value (\"Middle object in stack\")"
   ]
  },
  {
   "cell_type": "code",
   "execution_count": 110,
   "metadata": {},
   "outputs": [
    {
     "data": {
      "text/plain": [
       "1"
      ]
     },
     "execution_count": 110,
     "metadata": {},
     "output_type": "execute_result"
    }
   ],
   "source": [
    "NewStack.size()        # Returns the size of the stack (1)."
   ]
  },
  {
   "cell_type": "code",
   "execution_count": 111,
   "metadata": {},
   "outputs": [
    {
     "data": {
      "text/plain": [
       "'Bottom object in stack.'"
      ]
     },
     "execution_count": 111,
     "metadata": {},
     "output_type": "execute_result"
    }
   ],
   "source": [
    "NewStack.top()         # Returns the top object in the stack (\"Bottom object in stack\").\n",
    "                       # It does not remove the object from the stack."
   ]
  },
  {
   "cell_type": "code",
   "execution_count": 112,
   "metadata": {},
   "outputs": [
    {
     "data": {
      "text/plain": [
       "'Bottom object in stack.'"
      ]
     },
     "execution_count": 112,
     "metadata": {},
     "output_type": "execute_result"
    }
   ],
   "source": [
    "NewStack.pop()         # Removes the top object from the stack and returns its value (\"Bottom object in stack\")"
   ]
  },
  {
   "cell_type": "code",
   "execution_count": 113,
   "metadata": {},
   "outputs": [
    {
     "data": {
      "text/plain": [
       "0"
      ]
     },
     "execution_count": 113,
     "metadata": {},
     "output_type": "execute_result"
    }
   ],
   "source": [
    "NewStack.size()         # Returns the size of the stack (0)."
   ]
  },
  {
   "cell_type": "markdown",
   "metadata": {},
   "source": [
    "### 3.\n",
    "Suppose an initially empty stack S has executed a total of 35 push operations, 15 top operations, and 10 pop operations, 3 of which raised Empty errors that were caught and ignored. What is the current size of S?"
   ]
  },
  {
   "cell_type": "markdown",
   "metadata": {},
   "source": [
    "In the above scenario, the current size of S will be **28**. <br/> \n",
    "In order for 3 of the pop operations to raise errors the stack S must have been empty 3 out of the 10 times that pop was attempted.<br/> \n",
    "The 15 top operations have no effect on the contents of S. <br/> \n",
    "The 35 push operations added 35 items to the stack and the 7 successful pop operations removed 7 items. <br/> \n",
    "Therefore, 35 - 7 = **28**."
   ]
  },
  {
   "cell_type": "code",
   "execution_count": null,
   "metadata": {},
   "outputs": [],
   "source": []
  }
 ],
 "metadata": {
  "kernelspec": {
   "display_name": "Python 3",
   "language": "python",
   "name": "python3"
  },
  "language_info": {
   "codemirror_mode": {
    "name": "ipython",
    "version": 3
   },
   "file_extension": ".py",
   "mimetype": "text/x-python",
   "name": "python",
   "nbconvert_exporter": "python",
   "pygments_lexer": "ipython3",
   "version": "3.7.6"
  }
 },
 "nbformat": 4,
 "nbformat_minor": 2
}
